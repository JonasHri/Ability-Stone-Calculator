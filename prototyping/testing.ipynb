{
 "cells": [
  {
   "cell_type": "code",
   "execution_count": 130,
   "metadata": {},
   "outputs": [],
   "source": [
    "import numpy as np"
   ]
  },
  {
   "cell_type": "code",
   "execution_count": 92,
   "metadata": {},
   "outputs": [],
   "source": [
    "def get_scorer(row_1_bias: int = 0.5):\n",
    "    \n",
    "    weights = np.array([row_1_bias/3*2, (1 - row_1_bias)/3*2, 1/3])\n",
    "\n",
    "    def score(succsesses: np.ndarray, remaining: np.ndarray, choice: int, chance: float):\n",
    "\n",
    "        if(np.sum(remaining) <= 0):\n",
    "            res = (succsesses * weights).sum()\n",
    "            return res\n",
    "        \n",
    "        if(remaining[choice] <= 0):\n",
    "            return -100\n",
    "\n",
    "\n",
    "        suc = succsesses.copy()\n",
    "        suc[choice] += 1\n",
    "        fail = succsesses\n",
    "        \n",
    "        remaining[choice] -= 1\n",
    "\n",
    "        scores = np.array([0, 0, 0])\n",
    "        for i in range(3):\n",
    "            scores[i] = chance * score(suc.copy(), remaining.copy(), i, down(chance)) + (1 - chance) * score(fail.copy(), remaining.copy(), i, up(chance))\n",
    "\n",
    "\n",
    "        return np.max(scores)\n",
    "\n",
    "\n",
    "    return score\n",
    "\n",
    "\n",
    "\n",
    "s = np.full(3, 0, int)\n",
    "r = np.full(3, 3, int)\n",
    "chance = 0.75\n"
   ]
  },
  {
   "cell_type": "code",
   "execution_count": 81,
   "metadata": {},
   "outputs": [
    {
     "data": {
      "text/plain": [
       "1"
      ]
     },
     "execution_count": 81,
     "metadata": {},
     "output_type": "execute_result"
    }
   ],
   "source": [
    "row = np.random.choice(np.where(r > 0)[0])\n",
    "hit = int(np.random.uniform() < chance)\n",
    "hit"
   ]
  },
  {
   "cell_type": "code",
   "execution_count": 129,
   "metadata": {},
   "outputs": [
    {
     "name": "stdout",
     "output_type": "stream",
     "text": [
      "118 µs ± 5.74 µs per loop (mean ± std. dev. of 7 runs, 10000 loops each)\n"
     ]
    }
   ],
   "source": [
    "def random_complete(succsesses: np.ndarray, remaining: np.ndarray, chance: float):\n",
    "    if sum(remaining) <= 0:\n",
    "        return succsesses\n",
    "\n",
    "    row = np.random.choice(np.where(remaining > 0)[0])\n",
    "    hit = int(np.random.uniform() < chance)\n",
    "\n",
    "    succsesses[row] += hit\n",
    "    if hit:\n",
    "        chance = max(0.25, chance - 0.1)\n",
    "    else:\n",
    "        chance = min(0.75, chance + 0.1)\n",
    "\n",
    "    remaining[row] -= 1\n",
    "\n",
    "    return random_complete(succsesses, remaining, chance)\n",
    "\n",
    "\n",
    "\n",
    "\n",
    "a = random_complete(s.copy(), r.copy(), chance)"
   ]
  },
  {
   "cell_type": "code",
   "execution_count": 158,
   "metadata": {},
   "outputs": [
    {
     "name": "stdout",
     "output_type": "stream",
     "text": [
      "0.00018519999957788968\n",
      "1.3204909999994925\n",
      "1.3491253000001961\n"
     ]
    },
    {
     "data": {
      "text/plain": [
       "1.6983376999996835"
      ]
     },
     "execution_count": 158,
     "metadata": {},
     "output_type": "execute_result"
    }
   ],
   "source": [
    "from time import perf_counter as timer\n",
    "\n",
    "\n",
    "def random_complete_vek(arr):\n",
    "    succsesses = arr[0:3]\n",
    "    remaining = arr[3:6]\n",
    "    chance = arr[6]\n",
    "    return random_complete(succsesses, remaining, chance)\n",
    "\n",
    "\n",
    "def vek(suc, rem, chance, length = 1000):\n",
    "    arr = np.hstack((suc, rem, chance))\n",
    "    return np.repeat(arr[None,:], length, 0)\n",
    "\n",
    "\n",
    "s = np.full(3, 0, int)\n",
    "r = np.full(3, 3, int)\n",
    "chance = 0.75\n",
    "\n",
    "arr = vek(s, r, chance, length=10000)\n",
    "\n",
    "np.apply_along_axis(random_complete_vek, 1, arr)"
   ]
  }
 ],
 "metadata": {
  "interpreter": {
   "hash": "2fcd77bb43a10a0d869f645811ddc8e4499f945ad88ceb59806e455f0003fab9"
  },
  "kernelspec": {
   "display_name": "Python 3.9.7 ('coding')",
   "language": "python",
   "name": "python3"
  },
  "language_info": {
   "codemirror_mode": {
    "name": "ipython",
    "version": 3
   },
   "file_extension": ".py",
   "mimetype": "text/x-python",
   "name": "python",
   "nbconvert_exporter": "python",
   "pygments_lexer": "ipython3",
   "version": "3.9.7"
  },
  "orig_nbformat": 4
 },
 "nbformat": 4,
 "nbformat_minor": 2
}
