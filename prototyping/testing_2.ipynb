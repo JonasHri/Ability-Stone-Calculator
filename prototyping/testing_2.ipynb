{
 "cells": [
  {
   "cell_type": "code",
   "execution_count": 1,
   "metadata": {},
   "outputs": [],
   "source": [
    "import numpy as np"
   ]
  },
  {
   "cell_type": "code",
   "execution_count": 3,
   "metadata": {},
   "outputs": [],
   "source": [
    "def random_complete(succsesses: np.ndarray, remaining: np.ndarray, chance: float):\n",
    "    if sum(remaining) <= 0:\n",
    "        return succsesses\n",
    "\n",
    "    row = np.random.choice(np.where(remaining > 0)[0])\n",
    "    hit = int(np.random.uniform() < chance)\n",
    "\n",
    "    succsesses[row] += hit\n",
    "    if hit:\n",
    "        chance = max(0.25, chance - 0.1)\n",
    "    else:\n",
    "        chance = min(0.75, chance + 0.1)\n",
    "\n",
    "    remaining[row] -= 1\n",
    "\n",
    "    return random_complete(succsesses, remaining, chance)\n",
    "\n",
    "def random_complete_vek(arr):\n",
    "    succsesses = arr[0:3]\n",
    "    remaining = arr[3:6]\n",
    "    chance = arr[6]\n",
    "    return random_complete(succsesses, remaining, chance)\n",
    "\n",
    "\n",
    "def to_vek(suc, rem, chance, length = 1000):\n",
    "    arr = np.hstack((suc, rem, chance))\n",
    "    return np.repeat(arr[None,:], length, 0)"
   ]
  },
  {
   "cell_type": "code",
   "execution_count": 35,
   "metadata": {},
   "outputs": [
    {
     "data": {
      "text/plain": [
       "1.1024444444444443"
      ]
     },
     "execution_count": 35,
     "metadata": {},
     "output_type": "execute_result"
    }
   ],
   "source": [
    "s = np.full(3, 0, int)\n",
    "r = np.full(3, 10, int)\n",
    "s[0] = 10\n",
    "r[0] = 0\n",
    "chance = 0.75\n",
    "\n",
    "arr = to_vek(s, r, chance, length=1000)\n",
    "\n",
    "res = np.apply_along_axis(random_complete_vek, 1, arr.copy())\n",
    "\n",
    "(res * np.array([1/3, 1/3, -1/3])).mean()"
   ]
  }
 ],
 "metadata": {
  "interpreter": {
   "hash": "2fcd77bb43a10a0d869f645811ddc8e4499f945ad88ceb59806e455f0003fab9"
  },
  "kernelspec": {
   "display_name": "Python 3.9.7 ('coding')",
   "language": "python",
   "name": "python3"
  },
  "language_info": {
   "codemirror_mode": {
    "name": "ipython",
    "version": 3
   },
   "file_extension": ".py",
   "mimetype": "text/x-python",
   "name": "python",
   "nbconvert_exporter": "python",
   "pygments_lexer": "ipython3",
   "version": "3.9.7"
  },
  "orig_nbformat": 4
 },
 "nbformat": 4,
 "nbformat_minor": 2
}
