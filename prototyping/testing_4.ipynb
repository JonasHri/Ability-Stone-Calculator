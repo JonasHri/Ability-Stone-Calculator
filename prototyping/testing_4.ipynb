{
 "cells": [
  {
   "cell_type": "code",
   "execution_count": 16,
   "metadata": {},
   "outputs": [
    {
     "data": {
      "text/plain": [
       "3"
      ]
     },
     "execution_count": 16,
     "metadata": {},
     "output_type": "execute_result"
    }
   ],
   "source": [
    "def zeros(shape):\n",
    "    if len(shape) == 1:\n",
    "        return [0] * shape[0]\n",
    "    else:\n",
    "    \n",
    "        return [zeros(shape[1:]) for _ in range(shape[0])]\n",
    "\n",
    "f = 9\n",
    "\n",
    "a = zeros([6,   f, f, f,     f, f, f])\n",
    "\n",
    "def argmax(arr):\n",
    "    f = lambda i: arr[i]\n",
    "    return max(range(len(arr)), key=f)\n",
    "\n",
    "argmax([3,4,5,60,3,10])"
   ]
  },
  {
   "cell_type": "code",
   "execution_count": 13,
   "metadata": {},
   "outputs": [
    {
     "name": "stdout",
     "output_type": "stream",
     "text": [
      "6\n",
      "9\n",
      "9\n",
      "9\n",
      "9\n",
      "9\n",
      "9\n"
     ]
    }
   ],
   "source": []
  }
 ],
 "metadata": {
  "interpreter": {
   "hash": "2fcd77bb43a10a0d869f645811ddc8e4499f945ad88ceb59806e455f0003fab9"
  },
  "kernelspec": {
   "display_name": "Python 3.9.7 ('coding')",
   "language": "python",
   "name": "python3"
  },
  "language_info": {
   "codemirror_mode": {
    "name": "ipython",
    "version": 3
   },
   "file_extension": ".py",
   "mimetype": "text/x-python",
   "name": "python",
   "nbconvert_exporter": "python",
   "pygments_lexer": "ipython3",
   "version": "3.9.7"
  },
  "orig_nbformat": 4
 },
 "nbformat": 4,
 "nbformat_minor": 2
}
